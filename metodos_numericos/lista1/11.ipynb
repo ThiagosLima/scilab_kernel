{
 "cells": [
  {
   "cell_type": "markdown",
   "metadata": {},
   "source": [
    "## 11) Utilize 4 iterações (calcule x4) do método do ponto fixo para calcular a raiz de \n",
    "> ## *f(x) = 4x - e^x* ,\n",
    "## com estimativa inicial \n",
    "> ## *x0 = 0*."
   ]
  },
  {
   "cell_type": "code",
   "execution_count": 25,
   "metadata": {},
   "outputs": [
    {
     "name": "stdout",
     "output_type": "stream",
     "text": [
      "\u001b[4l\u001b[0m\u001b[0m\u001b[4l\u001b[0m\u001b[0m\u001b[4l\u001b[0m\u001b[0m\u001b[4l\u001b[0m\u001b[0m\u001b[4l\u001b[0m\u001b[0m\u001b[4l\u001b[0m\u001b[0m\u001b[4l\u001b[0m\u001b[0m\u001b[4l\u001b[0m\u001b[0m\u001b[4l\u001b[0m\u001b[0m\u001b[4l\u001b[0m\u001b[0m\u001b[4l\u001b[0m\u001b[0m\u001b[4l\u001b[0m\u001b[0m\u001b[4l\u001b[0m\u001b[0m\u001b[4l\u001b[0m\u001b[0m\u001b[4l\u001b[0m\u001b[0m\u001b[4l\u001b[0m\u001b[0m\u001b[4l\u001b[0m\u001b[0m\u001b[4l\u001b[0m\u001b[0m\u001b[4l\u001b[0m\u001b[0m\u001b[4l\u001b[0m\u001b[0m\u001b[4l\u001b[0m\u001b[0m\u001b[4l\u001b[0mWarning : redefining function: PontoFixo               . Use funcprot(0) to avoid this message\n",
      "\n",
      "\u001b[0m"
     ]
    }
   ],
   "source": [
    "function PontoFixo(f,x1,tol)\n",
    "// erro  - tolerância máxima para x1\n",
    "// Saída - x1 raíz da função f.\n",
    "// x0 solução inicial para a raíz de f\n",
    "    deff ( ' y=g ( x ) ' , ' y=f(x)+x' )   \n",
    "    erro = 1;\n",
    "    printf ( '%i\\t%.10f\\t%.1e\\n',0,x1,erro)\n",
    "    for (k=1:500)\n",
    "        x0=x1\n",
    "        x1 = g(x0);\n",
    "        if(x1<>0) then\n",
    "             erro =abs((x1-x0)/x1)\n",
    "        end\n",
    "               printf ( '%i\\t%.10f\\t%.1e\\n',k,x1,erro)\n",
    "        if  erro<tol then\n",
    "            raiz = round(10*x1/tol)*tol/10  // casas decimais de tol+1\n",
    "            break\n",
    "        end\n",
    "    end\n",
    "    printf ( '\\napós %i iterações raiz com tolerância %.1e = ',k,tol)\n",
    "    disp(raiz)\n",
    "endfunction"
   ]
  },
  {
   "cell_type": "code",
   "execution_count": 2,
   "metadata": {},
   "outputs": [
    {
     "name": "stdout",
     "output_type": "stream",
     "text": [
      "\u001b[4l \b\u001b[0m\r\n",
      "\u001b[0m"
     ]
    }
   ],
   "source": [
    "deff('y = f(x)', 'y = 4*x - exp(x)');"
   ]
  },
  {
   "cell_type": "code",
   "execution_count": 29,
   "metadata": {},
   "outputs": [
    {
     "name": "stdout",
     "output_type": "stream",
     "text": [
      "\u001b[4l\u001b[0m\n",
      "\u001b[0m\u001b[4l\u001b[0m\n",
      "\u001b[0m"
     ]
    }
   ],
   "source": [
    "x0 = 0;\n",
    "tol = 0.8;"
   ]
  },
  {
   "cell_type": "code",
   "execution_count": 30,
   "metadata": {},
   "outputs": [
    {
     "name": "stdout",
     "output_type": "stream",
     "text": [
      "\u001b[4l \b\u001b[0m0\t0.0000000000\t1.0e+00\r\n",
      "1\t-1.0000000000\t1.0e+00\r\n",
      "2\t-5.3678794412\t8.1e-01\r\n",
      "3\t-26.8440612170\t8.0e-01\r\n",
      "4\t-134.2203060850\t8.0e-01\r\n",
      "5\t-671.1015304250\t8.0e-01\r\n",
      "6\t-3355.5076521249\t8.0e-01\r\n",
      "7\t-16777.5382606243\t8.0e-01\r\n",
      "\r\n",
      "após 7 iterações raiz com tolerância 8.0e-01 = \r\n",
      "  -16777.52\r\n",
      "\r\n",
      "\u001b[0m"
     ]
    }
   ],
   "source": [
    "PontoFixo(f,x0,tol)"
   ]
  }
 ],
 "metadata": {
  "kernelspec": {
   "display_name": "Scilab",
   "language": "scilab",
   "name": "scilab"
  },
  "language_info": {
   "file_extension": ".sci",
   "help_links": [
    {
     "text": "MetaKernel Magics",
     "url": "https://metakernel.readthedocs.io/en/latest/source/README.html"
    }
   ],
   "mimetype": "text/x-octave",
   "name": "octave",
   "version": "0.9.10"
  }
 },
 "nbformat": 4,
 "nbformat_minor": 4
}
