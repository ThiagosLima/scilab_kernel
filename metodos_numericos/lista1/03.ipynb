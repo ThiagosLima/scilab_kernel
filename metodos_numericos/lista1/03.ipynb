{
 "cells": [
  {
   "cell_type": "markdown",
   "metadata": {},
   "source": [
    "## 3) Repita (1a) e (1d) com o método da falsa posição."
   ]
  },
  {
   "cell_type": "code",
   "execution_count": 1,
   "metadata": {},
   "outputs": [
    {
     "name": "stdout",
     "output_type": "stream",
     "text": [
      "\u001b[4l\u001b[0m\u001b[0m\u001b[4l\u001b[0m\u001b[0m\u001b[4l\u001b[0m\u001b[0m\u001b[4l\u001b[0m\u001b[0m\u001b[4l\u001b[0m\u001b[0m\u001b[4l\u001b[0m\u001b[0m\u001b[4l\u001b[0m\u001b[0m\u001b[4l\u001b[0m\u001b[0m\u001b[4l\u001b[0m\u001b[0m\u001b[4l\u001b[0m\u001b[0m\u001b[4l\u001b[0m\u001b[0m\u001b[4l\u001b[0m\u001b[0m\u001b[4l\u001b[0m\u001b[0m\u001b[4l\u001b[0m\u001b[0m\u001b[4l\u001b[0m\u001b[0m\u001b[4l\u001b[0m\u001b[0m\u001b[4l\u001b[0m\u001b[0m\u001b[4l\u001b[0m\u001b[0m\u001b[4l\u001b[0m\u001b[0m\u001b[4l\u001b[0m\u001b[0m\u001b[4l\u001b[0m\u001b[0m\u001b[4l\u001b[0m\u001b[0m\u001b[4l\u001b[0m\n",
      "\u001b[0m"
     ]
    }
   ],
   "source": [
    "function FalsaPosição(f,a,b,tol)\n",
    "    if (f(a)*f(b)>0) then\n",
    "       printf(\"não há raiz no intervalo [%f,%f]]\",a,b)\n",
    "       return\n",
    "    end\n",
    "    printf ('i \\ta\\t\\t\\tx1\\t\\t\\tb\\t\\t\\terro\\n')\n",
    "    x1=a;\n",
    "    erro=  1;\n",
    "    for (k=1:500)\n",
    "        x0=x1\n",
    "        x1=(a*f(b)-b*f(a))/(f(b)-f(a))  // Falsa Posição  ( Bisseção x1=(a+b)/2 )\n",
    "        if(x1<>0)  erro =abs((x1-x0)/x1)  end\n",
    "        printf ( '%i\\t%.10f(%2d)\\t%.10f(%2d)\\t%.10f(%2d)\\t%.1e\\n',...\n",
    "        k,a,sign(f(a)),x1,sign(f(x1)),b,sign(f(b)),erro)\n",
    "        if  ( (erro<tol) | (f(x1)==0) )  break  end\n",
    "        if f(x1)*f(a) < 0 then\n",
    "             b=x1\n",
    "        else\n",
    "             a=x1\n",
    "        end\n",
    "    end\n",
    "    printf (\"\\nraiz = %.10f(%2d) após %i iterações\",x1,sign(f(x1)),k)\n",
    "endfunction"
   ]
  },
  {
   "cell_type": "markdown",
   "metadata": {},
   "source": [
    "---\n",
    "### a) Utilize quatro iterações do método da Falsa posição para calcular a raiz real da função f(x) = 2e^x - sen(x) no intervalo [0.00000, 2.00000], com cinco casas decimais. Notar que os valores da variável ‘x’ estão expressos em radianos.\n",
    "\n",
    "#### R: Após 4 iterações, x = 0.95870"
   ]
  },
  {
   "cell_type": "code",
   "execution_count": 2,
   "metadata": {},
   "outputs": [
    {
     "name": "stdout",
     "output_type": "stream",
     "text": [
      "\u001b[4l \b\u001b[0m\r\n",
      "\u001b[0m"
     ]
    }
   ],
   "source": [
    "deff('y = f(x)', 'y = 2*exp(-x) - sin(x)');"
   ]
  },
  {
   "cell_type": "code",
   "execution_count": 9,
   "metadata": {},
   "outputs": [
    {
     "name": "stdout",
     "output_type": "stream",
     "text": [
      "\u001b[4l\u001b[0m\n",
      "\u001b[0m\u001b[4l\u001b[0m\n",
      "\u001b[0m\u001b[4l\u001b[0m\n",
      "\u001b[0m"
     ]
    }
   ],
   "source": [
    "a = 0.00000;\n",
    "b = 2.00000;\n",
    "tol = 0.1;"
   ]
  },
  {
   "cell_type": "code",
   "execution_count": 10,
   "metadata": {},
   "outputs": [
    {
     "name": "stdout",
     "output_type": "stream",
     "text": [
      "\u001b[4l \b\u001b[0mi \ta\t\t\tx1\t\t\tb\t\t\terro\r\n",
      "1\t0.0000000000( 1)\t1.5159399990(-1)\t2.0000000000(-1)\t1.0e+00\r\n",
      "2\t0.0000000000( 1)\t1.1846555500(-1)\t1.5159399990(-1)\t2.8e-01\r\n",
      "3\t0.0000000000( 1)\t1.0236080343(-1)\t1.1846555500(-1)\t1.6e-01\r\n",
      "4\t0.0000000000( 1)\t0.9587045499(-1)\t1.0236080343(-1)\t6.8e-02\r\n",
      "\r\n",
      "raiz = 0.9587045499(-1) após 4 iterações\r\n",
      "\u001b[0m"
     ]
    }
   ],
   "source": [
    "FalsaPosição(f,a,b,tol)"
   ]
  },
  {
   "cell_type": "markdown",
   "metadata": {},
   "source": [
    "---\n",
    "### d) Utilize quatro iterações do método da Falsa posição para calcular a raiz real da função f(x) = x*log(x + 1) − 1.0  no intervalo [0.00000 , 2.00000], com cinco casas decimais.\n",
    "\n",
    "#### R: Após 4 iterações, x = 1.23900 "
   ]
  },
  {
   "cell_type": "code",
   "execution_count": 11,
   "metadata": {},
   "outputs": [
    {
     "name": "stdout",
     "output_type": "stream",
     "text": [
      "\u001b[4l \b\u001b[0m\r\n",
      "\u001b[0m"
     ]
    }
   ],
   "source": [
    "deff('y = f2(x)', 'y = x*log(x + 1) - 1.0');"
   ]
  },
  {
   "cell_type": "code",
   "execution_count": 14,
   "metadata": {},
   "outputs": [
    {
     "name": "stdout",
     "output_type": "stream",
     "text": [
      "\u001b[4l\u001b[0m\n",
      "\u001b[0m\u001b[4l\u001b[0m\n",
      "\u001b[0m\u001b[4l\u001b[0m\n",
      "\u001b[0m"
     ]
    }
   ],
   "source": [
    "a = 0.00000;\n",
    "b = 2.00000;\n",
    "tol = 0.01;"
   ]
  },
  {
   "cell_type": "code",
   "execution_count": 15,
   "metadata": {},
   "outputs": [
    {
     "name": "stdout",
     "output_type": "stream",
     "text": [
      "\u001b[4l \b\u001b[0mi \ta\t\t\tx1\t\t\tb\t\t\terro\r\n",
      "1\t0.0000000000(-1)\t0.9102392266(-1)\t2.0000000000( 1)\t1.0e+00\r\n",
      "2\t0.9102392266(-1)\t1.1886729584(-1)\t2.0000000000( 1)\t2.3e-01\r\n",
      "3\t1.1886729584(-1)\t1.2328346405(-1)\t2.0000000000( 1)\t3.6e-02\r\n",
      "4\t1.2328346405(-1)\t1.2389994034(-1)\t2.0000000000( 1)\t5.0e-03\r\n",
      "\r\n",
      "raiz = 1.2389994034(-1) após 4 iterações\r\n",
      "\u001b[0m"
     ]
    }
   ],
   "source": [
    "FalsaPosição(f2,a,b,tol)"
   ]
  }
 ],
 "metadata": {
  "kernelspec": {
   "display_name": "Scilab",
   "language": "scilab",
   "name": "scilab"
  },
  "language_info": {
   "file_extension": ".sci",
   "help_links": [
    {
     "text": "MetaKernel Magics",
     "url": "https://metakernel.readthedocs.io/en/latest/source/README.html"
    }
   ],
   "mimetype": "text/x-octave",
   "name": "octave",
   "version": "0.9.10"
  }
 },
 "nbformat": 4,
 "nbformat_minor": 4
}
