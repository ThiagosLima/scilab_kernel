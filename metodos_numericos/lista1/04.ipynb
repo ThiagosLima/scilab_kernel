{
 "cells": [
  {
   "cell_type": "markdown",
   "metadata": {},
   "source": [
    "## 4) Com relação ao método de Newton Rapshon responda"
   ]
  },
  {
   "cell_type": "code",
   "execution_count": 52,
   "metadata": {},
   "outputs": [
    {
     "name": "stdout",
     "output_type": "stream",
     "text": [
      "\u001b[4l\u001b[0m\u001b[0m\u001b[4l\u001b[0m\u001b[0m\u001b[4l\u001b[0m\u001b[0m\u001b[4l\u001b[0m\u001b[0m\u001b[4l\u001b[0m\u001b[0m\u001b[4l\u001b[0m\u001b[0m\u001b[4l\u001b[0m\u001b[0m\u001b[4l\u001b[0m\u001b[0m\u001b[4l\u001b[0m\u001b[0m\u001b[4l\u001b[0m\u001b[0m\u001b[4l\u001b[0m\u001b[0m\u001b[4l\u001b[0m\u001b[0m\u001b[4l\u001b[0m\u001b[0m\u001b[4l\u001b[0m\u001b[0m\u001b[4l\u001b[0m\u001b[0m\u001b[4l\u001b[0m\u001b[0m\u001b[4l\u001b[0m\u001b[0m\u001b[4l\u001b[0m\u001b[0m\u001b[4l\u001b[0m\u001b[0m\u001b[4l\u001b[0m\u001b[0m\u001b[4l\u001b[0m\u001b[0m\u001b[4l\u001b[0m\u001b[0m\u001b[4l\u001b[0m\u001b[0m\u001b[4l\u001b[0m\u001b[0m\u001b[4l\u001b[0m\u001b[0m\u001b[4l\u001b[0mWarning : redefining function: NewtonRaphson           . Use funcprot(0) to avoid this message\n",
      "\n",
      "\u001b[0m"
     ]
    }
   ],
   "source": [
    "function NewtonRaphson(f,x1,tol)\n",
    "// tol- tolerância máxima para a raiz\n",
    "// x1 - estimativa inicial para a raiz\n",
    "// Saída - raiz da função f com tolerância tol.\n",
    "// deff ( 'y=f ( x )' , 'y=x^2-8*x+6' )\n",
    "// NewtonRaphson(f,0,1e-4)\n",
    "    iter = 0;\n",
    "    erro = 1;\n",
    "    printf ( '%i\\t%.10f\\t%.1e\\n',1,x1,erro)\n",
    "    for (k=2:500)\n",
    "        x0=x1\n",
    "        f0=feval(x0,f)\n",
    "        df0=numderivative(f,x0)\n",
    "        x1 = x0 - f0/df0\n",
    "        if(x1<>0) then\n",
    "             erro =abs((x1-x0)/x1)\n",
    "        end\n",
    "       printf ( '%i\\t%.10f\\t%.1e\\n',k,x1,erro)\n",
    "        if  erro<tol then\n",
    "            raiz = round(10*x1/tol)*tol/10  // casas decimais de tol+1\n",
    "            break\n",
    "        end\n",
    "    end\n",
    "    printf ( '\\napós %i iterações raiz com tolerância %.1e = ',k,tol)\n",
    "    disp(raiz)\n",
    "endfunction"
   ]
  },
  {
   "cell_type": "markdown",
   "metadata": {},
   "source": [
    "---\n",
    "### a) Utilize então quatro iterações (calcule x4) do método de Newton-Raphson para calcular a raiz de \n",
    "> ### f(x) = x^2 - exp(x)/2, \n",
    "### com estimativa inicial de \n",
    "> ### x0=1.\n",
    "\n",
    "#### R: Após 4 iterações, x = 1.4879618819"
   ]
  },
  {
   "cell_type": "code",
   "execution_count": 4,
   "metadata": {},
   "outputs": [
    {
     "name": "stdout",
     "output_type": "stream",
     "text": [
      "\u001b[4l \b\u001b[0mWarning : redefining function: f                       . Use funcprot(0) to avoid this message\r\n",
      "\r\n",
      "\u001b[0m"
     ]
    }
   ],
   "source": [
    "deff('y = f(x)', 'y = x^2 - exp(x)/2');"
   ]
  },
  {
   "cell_type": "code",
   "execution_count": 7,
   "metadata": {},
   "outputs": [
    {
     "name": "stdout",
     "output_type": "stream",
     "text": [
      "\u001b[4l\u001b[0m\n",
      "\u001b[0m\u001b[4l\u001b[0m\n",
      "\u001b[0m"
     ]
    }
   ],
   "source": [
    "x0 = 1;\n",
    "tol = 0.01;"
   ]
  },
  {
   "cell_type": "code",
   "execution_count": 53,
   "metadata": {},
   "outputs": [
    {
     "name": "stdout",
     "output_type": "stream",
     "text": [
      "\u001b[4l \b\u001b[0m1\t1.0000000000\t1.0e+00\r\n",
      "2\t1.5604054342\t3.6e-01\r\n",
      "3\t1.4868141260\t4.9e-02\r\n",
      "4\t1.4879618819\t7.7e-04\r\n",
      "\r\n",
      "após 4 iterações raiz com tolerância 1.0e-02 = \r\n",
      "   1.488\r\n",
      "\r\n",
      "\u001b[0m"
     ]
    }
   ],
   "source": [
    "NewtonRaphson(f,x0,tol)"
   ]
  },
  {
   "cell_type": "markdown",
   "metadata": {},
   "source": [
    "---\n",
    "### b) Faça uma estimativa do erro de aproximação da raiz após 4 iterações.\n",
    "\n",
    "#### R: Após 4 iterações, erro = 7.7e-04"
   ]
  }
 ],
 "metadata": {
  "kernelspec": {
   "display_name": "Scilab",
   "language": "scilab",
   "name": "scilab"
  },
  "language_info": {
   "file_extension": ".sci",
   "help_links": [
    {
     "text": "MetaKernel Magics",
     "url": "https://metakernel.readthedocs.io/en/latest/source/README.html"
    }
   ],
   "mimetype": "text/x-octave",
   "name": "octave",
   "version": "0.9.10"
  }
 },
 "nbformat": 4,
 "nbformat_minor": 4
}
