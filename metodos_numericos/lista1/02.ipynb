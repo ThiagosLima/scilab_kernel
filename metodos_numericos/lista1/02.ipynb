{
 "cells": [
  {
   "cell_type": "markdown",
   "metadata": {},
   "source": [
    "## 2) Com relação ao método da bissecção responda:"
   ]
  },
  {
   "cell_type": "code",
   "execution_count": 47,
   "metadata": {},
   "outputs": [
    {
     "name": "stdout",
     "output_type": "stream",
     "text": [
      "\u001b[4l\u001b[0m\u001b[0m\u001b[4l\u001b[0m\u001b[0m\u001b[4l\u001b[0m\u001b[0m\u001b[4l\u001b[0m\u001b[0m\u001b[4l\u001b[0m\u001b[0m\u001b[4l\u001b[0m\u001b[0m\u001b[4l\u001b[0m\u001b[0m\u001b[4l\u001b[0m\u001b[0m\u001b[4l\u001b[0m\u001b[0m\u001b[4l\u001b[0m\u001b[0m\u001b[4l\u001b[0m\u001b[0m\u001b[4l\u001b[0m\u001b[0m\u001b[4l\u001b[0m\u001b[0m\u001b[4l\u001b[0m\u001b[0m\u001b[4l\u001b[0m\u001b[0m\u001b[4l\u001b[0m\u001b[0m\u001b[4l\u001b[0m\u001b[0m\u001b[4l\u001b[0m\u001b[0m\u001b[4l\u001b[0m\u001b[0m\u001b[4l\u001b[0m\u001b[0m\u001b[4l\u001b[0m\u001b[0m\u001b[4l\u001b[0m\u001b[0m\u001b[4l\u001b[0m\u001b[0m\u001b[4l\u001b[0m\u001b[0m\u001b[4l\u001b[0m\u001b[0m\u001b[4l\u001b[0m\u001b[0m\u001b[4l\u001b[0m\u001b[0m\u001b[4l\u001b[0m\n",
      "\u001b[0m"
     ]
    }
   ],
   "source": [
    "function Bisseção(f,a,b,tol)\n",
    "// erro  - tolerância máxima para a raiz\n",
    "// Saída - raiz da função f no intervalo [a,b].\n",
    "// a - início do intervalo\n",
    "// b - fim do intervalo\n",
    "// deff ( 'y=f ( x )' , 'y=x^2-8*x+6' )\n",
    "// Bisseção(f,0,1,1e-4)\n",
    "    if (f(a)*f(b)>0) then\n",
    "       printf(\"não há raiz no intervalo [%f,%f]]\",a,b)\n",
    "       return\n",
    "    end\n",
    "    printf ('i \\ta\\t\\t\\tb\\t\\t\\tx1\\t\\t\\terro\\n')\n",
    "    for (k=1:500)\n",
    "        erro=abs(b-a)\n",
    "        x1=(a+b)/2     // Bisseção\n",
    "        printf ( '%i\\t%.10f(%2d)\\t%.10f(%2d)\\t%.10f(%2d)\\t%.1e\\n',k,a,sign(f(a)),b,sign(f(b)),x1,sign(f(x1)),erro)\n",
    "        if f(x1)*f(a) < 0 then\n",
    "             b=x1\n",
    "        else\n",
    "             a=x1\n",
    "        end\n",
    "        if  erro<tol then\n",
    "            raiz = x1\n",
    "            break\n",
    "        end\n",
    "    end\n",
    "    printf ( '\\nraiz = %.10f após %i iterações',raiz,k)\n",
    "endfunction"
   ]
  },
  {
   "cell_type": "markdown",
   "metadata": {},
   "source": [
    "---\n",
    "### a) Utilize quatro iterações do método da Bissecção para calcular a raiz real da função f(x) = 2e^x - sen(x) no intervalo [0.00000, 2.00000], com cinco casas decimais. Notar que os valores da variável ‘x’ estão expressos em radianos.\n",
    "\n",
    "#### R: Após 4 iterações, x = 0.87500"
   ]
  },
  {
   "cell_type": "code",
   "execution_count": 48,
   "metadata": {},
   "outputs": [
    {
     "name": "stdout",
     "output_type": "stream",
     "text": [
      "\u001b[4l \b\u001b[0mWarning : redefining function: f                       . Use funcprot(0) to avoid this message\r\n",
      "\r\n",
      "\u001b[0m"
     ]
    }
   ],
   "source": [
    "deff('y = f(x)', 'y = 2*exp(-x) - sin(x)');"
   ]
  },
  {
   "cell_type": "code",
   "execution_count": 49,
   "metadata": {},
   "outputs": [
    {
     "name": "stdout",
     "output_type": "stream",
     "text": [
      "\u001b[4l\u001b[0m\n",
      "\u001b[0m\u001b[4l\u001b[0m\n",
      "\u001b[0m\u001b[4l\u001b[0m\n",
      "\u001b[0m"
     ]
    }
   ],
   "source": [
    "a = 0.00000;\n",
    "b = 2.00000;\n",
    "tol = 0.3;"
   ]
  },
  {
   "cell_type": "code",
   "execution_count": 50,
   "metadata": {},
   "outputs": [
    {
     "name": "stdout",
     "output_type": "stream",
     "text": [
      "\u001b[4l \b\u001b[0mi \ta\t\t\tb\t\t\tx1\t\t\terro\r\n",
      "1\t0.0000000000( 1)\t2.0000000000(-1)\t1.0000000000(-1)\t2.0e+00\r\n",
      "2\t0.0000000000( 1)\t1.0000000000(-1)\t0.5000000000( 1)\t1.0e+00\r\n",
      "3\t0.5000000000( 1)\t1.0000000000(-1)\t0.7500000000( 1)\t5.0e-01\r\n",
      "4\t0.7500000000( 1)\t1.0000000000(-1)\t0.8750000000( 1)\t2.5e-01\r\n",
      "\r\n",
      "raiz = 0.8750000000 após 4 iterações\r\n",
      "\u001b[0m"
     ]
    }
   ],
   "source": [
    "Bisseção(f,a,b,tol)"
   ]
  },
  {
   "cell_type": "markdown",
   "metadata": {},
   "source": [
    "---\n",
    "### b) Faça uma estimativa do erro na estimação da raiz após quatro iterações.\n",
    "\n",
    "#### R: Após 4 iterações, erro = 2.5e-01"
   ]
  },
  {
   "cell_type": "markdown",
   "metadata": {},
   "source": [
    "---\n",
    "### c) Quantas iterações seriam necessárias para se obter um erro menor que 10^-8?\n",
    "\n",
    "#### R: 26 iterações"
   ]
  },
  {
   "cell_type": "code",
   "execution_count": 51,
   "metadata": {},
   "outputs": [
    {
     "name": "stdout",
     "output_type": "stream",
     "text": [
      "\u001b[4l\u001b[0m\n",
      "\u001b[0m\u001b[4l\u001b[0mi \ta\t\t\tb\t\t\tx1\t\t\terro\n",
      "1\t0.0000000000( 1)\t2.0000000000(-1)\t1.0000000000(-1)\t2.0e+00\n",
      "2\t0.0000000000( 1)\t1.0000000000(-1)\t0.5000000000( 1)\t1.0e+00\n",
      "3\t0.5000000000( 1)\t1.0000000000(-1)\t0.7500000000( 1)\t5.0e-01\n",
      "4\t0.7500000000( 1)\t1.0000000000(-1)\t0.8750000000( 1)\t2.5e-01\n",
      "5\t0.8750000000( 1)\t1.0000000000(-1)\t0.9375000000(-1)\t1.2e-01\n",
      "6\t0.8750000000( 1)\t0.9375000000(-1)\t0.9062500000( 1)\t6.2e-02\n",
      "7\t0.9062500000( 1)\t0.9375000000(-1)\t0.9218750000(-1)\t3.1e-02\n",
      "8\t0.9062500000( 1)\t0.9218750000(-1)\t0.9140625000( 1)\t1.6e-02\n",
      "9\t0.9140625000( 1)\t0.9218750000(-1)\t0.9179687500( 1)\t7.8e-03\n",
      "10\t0.9179687500( 1)\t0.9218750000(-1)\t0.9199218750( 1)\t3.9e-03\n",
      "11\t0.9199218750( 1)\t0.9218750000(-1)\t0.9208984375( 1)\t2.0e-03\n",
      "12\t0.9208984375( 1)\t0.9218750000(-1)\t0.9213867188(-1)\t9.8e-04\n",
      "13\t0.9208984375( 1)\t0.9213867188(-1)\t0.9211425781(-1)\t4.9e-04\n",
      "14\t0.9208984375( 1)\t0.9211425781(-1)\t0.9210205078( 1)\t2.4e-04\n",
      "15\t0.9210205078( 1)\t0.9211425781(-1)\t0.9210815430(-1)\t1.2e-04\n",
      "16\t0.9210205078( 1)\t0.9210815430(-1)\t0.9210510254(-1)\t6.1e-05\n",
      "17\t0.9210205078( 1)\t0.9210510254(-1)\t0.9210357666(-1)\t3.1e-05\n",
      "18\t0.9210205078( 1)\t0.9210357666(-1)\t0.9210281372(-1)\t1.5e-05\n",
      "19\t0.9210205078( 1)\t0.9210281372(-1)\t0.9210243225( 1)\t7.6e-06\n",
      "20\t0.9210243225( 1)\t0.9210281372(-1)\t0.9210262299(-1)\t3.8e-06\n",
      "21\t0.9210243225( 1)\t0.9210262299(-1)\t0.9210252762(-1)\t1.9e-06\n",
      "22\t0.9210243225( 1)\t0.9210252762(-1)\t0.9210247993(-1)\t9.5e-07\n",
      "23\t0.9210243225( 1)\t0.9210247993(-1)\t0.9210245609(-1)\t4.8e-07\n",
      "24\t0.9210243225( 1)\t0.9210245609(-1)\t0.9210244417( 1)\t2.4e-07\n",
      "25\t0.9210244417( 1)\t0.9210245609(-1)\t0.9210245013( 1)\t1.2e-07\n",
      "26\t0.9210245013( 1)\t0.9210245609(-1)\t0.9210245311( 1)\t6.0e-08\n",
      "\n",
      "raiz = 0.9210245311 após 26 iterações\n",
      "\u001b[0m"
     ]
    }
   ],
   "source": [
    "tol = 10e-8;\n",
    "Bisseção(f,a,b,tol)"
   ]
  },
  {
   "cell_type": "markdown",
   "metadata": {},
   "source": [
    "---\n",
    "### d) Utilize quatro iterações do método da Bissecção para calcular a raiz real da função f(x) = x*log(x + 1) − 1.0  no intervalo [0.00000 , 2.00000], com cinco casas decimais.\n",
    "\n",
    "#### R: Após 4 iterações, x = 1.12500"
   ]
  },
  {
   "cell_type": "markdown",
   "metadata": {},
   "source": [
    "---\n",
    "### e) Faça uma estimativa do erro no cálculo (d) da raiz após quatro iterações.\n",
    "\n",
    "#### R: Após 4 iterações, erro = 2.5e-01"
   ]
  },
  {
   "cell_type": "code",
   "execution_count": 52,
   "metadata": {},
   "outputs": [
    {
     "name": "stdout",
     "output_type": "stream",
     "text": [
      "\u001b[4l \b\u001b[0m\r\n",
      "\u001b[0m"
     ]
    }
   ],
   "source": [
    "deff('y = f2(x)', 'y = x*log(x + 1) - 1.0');"
   ]
  },
  {
   "cell_type": "code",
   "execution_count": 53,
   "metadata": {},
   "outputs": [
    {
     "name": "stdout",
     "output_type": "stream",
     "text": [
      "\u001b[4l\u001b[0m\n",
      "\u001b[0m\u001b[4l\u001b[0m\n",
      "\u001b[0m\u001b[4l\u001b[0m\n",
      "\u001b[0m"
     ]
    }
   ],
   "source": [
    "a = 0.00000;\n",
    "b = 2.00000;\n",
    "tol = 0.3;"
   ]
  },
  {
   "cell_type": "code",
   "execution_count": 54,
   "metadata": {},
   "outputs": [
    {
     "name": "stdout",
     "output_type": "stream",
     "text": [
      "\u001b[4l \b\u001b[0mi \ta\t\t\tb\t\t\tx1\t\t\terro\r\n",
      "1\t0.0000000000(-1)\t2.0000000000( 1)\t1.0000000000(-1)\t2.0e+00\r\n",
      "2\t1.0000000000(-1)\t2.0000000000( 1)\t1.5000000000( 1)\t1.0e+00\r\n",
      "3\t1.0000000000(-1)\t1.5000000000( 1)\t1.2500000000( 1)\t5.0e-01\r\n",
      "4\t1.0000000000(-1)\t1.2500000000( 1)\t1.1250000000(-1)\t2.5e-01\r\n",
      "\r\n",
      "raiz = 1.1250000000 após 4 iterações\r\n",
      "\u001b[0m"
     ]
    }
   ],
   "source": [
    "Bisseção(f2,a,b,tol)"
   ]
  },
  {
   "cell_type": "markdown",
   "metadata": {},
   "source": [
    "---\n",
    "### f) Quantas iterações seriam necessárias em (d) para se obter um erro menor que 10-9?\n",
    "\n",
    "#### R: Após 29 iterações"
   ]
  },
  {
   "cell_type": "code",
   "execution_count": 55,
   "metadata": {},
   "outputs": [
    {
     "name": "stdout",
     "output_type": "stream",
     "text": [
      "\u001b[4l\u001b[0m\n",
      "\u001b[0m\u001b[4l\u001b[0mi \ta\t\t\tb\t\t\tx1\t\t\terro\n",
      "1\t0.0000000000(-1)\t2.0000000000( 1)\t1.0000000000(-1)\t2.0e+00\n",
      "2\t1.0000000000(-1)\t2.0000000000( 1)\t1.5000000000( 1)\t1.0e+00\n",
      "3\t1.0000000000(-1)\t1.5000000000( 1)\t1.2500000000( 1)\t5.0e-01\n",
      "4\t1.0000000000(-1)\t1.2500000000( 1)\t1.1250000000(-1)\t2.5e-01\n",
      "5\t1.1250000000(-1)\t1.2500000000( 1)\t1.1875000000(-1)\t1.2e-01\n",
      "6\t1.1875000000(-1)\t1.2500000000( 1)\t1.2187500000(-1)\t6.2e-02\n",
      "7\t1.2187500000(-1)\t1.2500000000( 1)\t1.2343750000(-1)\t3.1e-02\n",
      "8\t1.2343750000(-1)\t1.2500000000( 1)\t1.2421875000( 1)\t1.6e-02\n",
      "9\t1.2343750000(-1)\t1.2421875000( 1)\t1.2382812500(-1)\t7.8e-03\n",
      "10\t1.2382812500(-1)\t1.2421875000( 1)\t1.2402343750( 1)\t3.9e-03\n",
      "11\t1.2382812500(-1)\t1.2402343750( 1)\t1.2392578125(-1)\t2.0e-03\n",
      "12\t1.2392578125(-1)\t1.2402343750( 1)\t1.2397460938(-1)\t9.8e-04\n",
      "13\t1.2397460938(-1)\t1.2402343750( 1)\t1.2399902344( 1)\t4.9e-04\n",
      "14\t1.2397460938(-1)\t1.2399902344( 1)\t1.2398681641(-1)\t2.4e-04\n",
      "15\t1.2398681641(-1)\t1.2399902344( 1)\t1.2399291992(-1)\t1.2e-04\n",
      "16\t1.2399291992(-1)\t1.2399902344( 1)\t1.2399597168(-1)\t6.1e-05\n",
      "17\t1.2399597168(-1)\t1.2399902344( 1)\t1.2399749756(-1)\t3.1e-05\n",
      "18\t1.2399749756(-1)\t1.2399902344( 1)\t1.2399826050( 1)\t1.5e-05\n",
      "19\t1.2399749756(-1)\t1.2399826050( 1)\t1.2399787903( 1)\t7.6e-06\n",
      "20\t1.2399749756(-1)\t1.2399787903( 1)\t1.2399768829(-1)\t3.8e-06\n",
      "21\t1.2399768829(-1)\t1.2399787903( 1)\t1.2399778366(-1)\t1.9e-06\n",
      "22\t1.2399778366(-1)\t1.2399787903( 1)\t1.2399783134( 1)\t9.5e-07\n",
      "23\t1.2399778366(-1)\t1.2399783134( 1)\t1.2399780750( 1)\t4.8e-07\n",
      "24\t1.2399778366(-1)\t1.2399780750( 1)\t1.2399779558( 1)\t2.4e-07\n",
      "25\t1.2399778366(-1)\t1.2399779558( 1)\t1.2399778962( 1)\t1.2e-07\n",
      "26\t1.2399778366(-1)\t1.2399778962( 1)\t1.2399778664(-1)\t6.0e-08\n",
      "27\t1.2399778664(-1)\t1.2399778962( 1)\t1.2399778813(-1)\t3.0e-08\n",
      "28\t1.2399778813(-1)\t1.2399778962( 1)\t1.2399778888( 1)\t1.5e-08\n",
      "29\t1.2399778813(-1)\t1.2399778888( 1)\t1.2399778850(-1)\t7.5e-09\n",
      "\n",
      "raiz = 1.2399778850 após 29 iterações\n",
      "\u001b[0m"
     ]
    }
   ],
   "source": [
    "tol = 10e-9;\n",
    "Bisseção(f2,a,b,tol)"
   ]
  }
 ],
 "metadata": {
  "kernelspec": {
   "display_name": "Scilab",
   "language": "scilab",
   "name": "scilab"
  },
  "language_info": {
   "file_extension": ".sci",
   "help_links": [
    {
     "text": "MetaKernel Magics",
     "url": "https://metakernel.readthedocs.io/en/latest/source/README.html"
    }
   ],
   "mimetype": "text/x-octave",
   "name": "octave",
   "version": "0.9.10"
  }
 },
 "nbformat": 4,
 "nbformat_minor": 4
}
