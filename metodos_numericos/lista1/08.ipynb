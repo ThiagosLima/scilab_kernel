{
 "cells": [
  {
   "cell_type": "markdown",
   "metadata": {},
   "source": [
    "## 8) Com relação à aritmética inteira responda:"
   ]
  },
  {
   "cell_type": "code",
   "execution_count": 6,
   "metadata": {},
   "outputs": [
    {
     "name": "stdout",
     "output_type": "stream",
     "text": [
      "\u001b[4l\u001b[0m\u001b[0m\u001b[4l\u001b[0m\u001b[0m\u001b[4l\u001b[0m\u001b[0m\u001b[4l\u001b[0m\u001b[0m\u001b[4l\u001b[0m\u001b[0m\u001b[4l\u001b[0m\u001b[0m\u001b[4l\u001b[0m\u001b[0m\u001b[4l\u001b[0m\u001b[0m\u001b[4l\u001b[0m\u001b[0m\u001b[4l\u001b[0m\u001b[0m\u001b[4l\u001b[0m\u001b[0m\u001b[4l\u001b[0m\u001b[0m\u001b[4l\u001b[0m\u001b[0m\u001b[4l\u001b[0m\u001b[0m\u001b[4l\u001b[0m\u001b[0m\u001b[4l\u001b[0m\u001b[0m\u001b[4l\u001b[0m\u001b[0m\u001b[4l\u001b[0m\u001b[0m\u001b[4l\u001b[0m\u001b[0m\u001b[4l\u001b[0m\n",
      "\u001b[0m"
     ]
    }
   ],
   "source": [
    "    function b=SomaBinaria(b1,b2)\n",
    "    // Soma de números binários  b=b1+b2\n",
    "    if (length(b1)<>length(b2)) then\n",
    "        disp(\"b1 e b2 devem ter o mesmo número de bits\")\n",
    "        return\n",
    "    end\n",
    "    n=length(b1)\n",
    "    v1=0\n",
    "    for(k=n:-1:1)\n",
    "        b(1,k)=b1(k)+b2(k)+v1\n",
    "        v1=0\n",
    "        if b(k)==2 then\n",
    "            b(k)=0\n",
    "            v1=1\n",
    "        elseif b(k)==3 then\n",
    "            b(k)=1\n",
    "            v1=1   \n",
    "        end\n",
    "    end\n",
    "endfunction"
   ]
  },
  {
   "cell_type": "code",
   "execution_count": 7,
   "metadata": {},
   "outputs": [
    {
     "name": "stdout",
     "output_type": "stream",
     "text": [
      "\u001b[4l\u001b[0m\u001b[0m\u001b[4l\u001b[0m\u001b[0m\u001b[4l\u001b[0m\u001b[0m\u001b[4l\u001b[0m\u001b[0m\u001b[4l\u001b[0m\u001b[0m\u001b[4l\u001b[0m\u001b[0m\u001b[4l\u001b[0m\u001b[0m\u001b[4l\u001b[0m\u001b[0m\u001b[4l\u001b[0m\u001b[0m\u001b[4l\u001b[0m\u001b[0m\u001b[4l\u001b[0m\n",
      "\u001b[0m"
     ]
    }
   ],
   "source": [
    "function a=binario2dec3(b_c2,n)\n",
    "   // b INTEIRO POSITIVO OU NEGATIVO\n",
    "   // com COMPLEMENTO 2  \n",
    "    b=b_c2\n",
    "    if(b(1)==1) then   //complemento 2  \n",
    "        b=bitcmp(b_c2,1)   // inverter bits\n",
    "        b=SomaBinaria(b,[zeros(1:n-1) 1]) // somar 1\n",
    "    end\n",
    "    p= 2^(n-1:-1:0);\n",
    "    a= (-1)^b_c2(1) * (b*p');  \n",
    "endfunction\n"
   ]
  },
  {
   "cell_type": "code",
   "execution_count": 8,
   "metadata": {},
   "outputs": [
    {
     "name": "stdout",
     "output_type": "stream",
     "text": [
      "\u001b[4l\u001b[0m\u001b[0m\u001b[4l\u001b[0m\u001b[0m\u001b[4l\u001b[0m\u001b[0m\u001b[4l\u001b[0m\u001b[0m\u001b[4l\u001b[0m\u001b[0m\u001b[4l\u001b[0m\u001b[0m\u001b[4l\u001b[0m\u001b[0m\u001b[4l\u001b[0m\u001b[0m\u001b[4l\u001b[0m\u001b[0m\u001b[4l\u001b[0m\u001b[0m\u001b[4l\u001b[0m\u001b[0m\u001b[4l\u001b[0m\u001b[0m\u001b[4l\u001b[0m\u001b[0m\u001b[4l\u001b[0m\u001b[0m\u001b[4l\u001b[0m\u001b[0m\u001b[4l\u001b[0m\u001b[0m\u001b[4l\u001b[0m\u001b[0m\u001b[4l\u001b[0m\u001b[0m\u001b[4l\u001b[0m\u001b[0m\u001b[4l\u001b[0m\u001b[0m\u001b[4l\u001b[0m\u001b[0m\u001b[4l\u001b[0m\u001b[0m\u001b[4l\u001b[0m\u001b[0m\u001b[4l\u001b[0mWarning : redefining function: dec2binario3            . Use funcprot(0) to avoid this message\n",
      "\n",
      "\u001b[0m"
     ]
    }
   ],
   "source": [
    "function b_c2 = dec2binario3(a,n) \n",
    "    // Conversão de decimal INTEIRO POSITIVO OU NEGATIVO para binário\n",
    "    // com COMPLEMENTO 2  -  Inverter bits e somar 1\n",
    "  b=[]\n",
    "  if(  a<(-2^(n-1)) |  a>(2^(n-1)-1)  ) then\n",
    "      printf(\"%d não pode ser reprentado com %d bits\",a,n)\n",
    "      return\n",
    "  end\n",
    "  p= 2^(n-1:-1:0);\n",
    "  r=int(abs(a)./p)\n",
    "  b = modulo(r,2) //conversão do decimal 'a' para o binário 'b' com n bits\n",
    "  b_c2=b\n",
    "  if(a<0) then   //complemento 2  \n",
    "      b_c2=bitcmp(b,1)   // inverter bits\n",
    "      b_c2=SomaBinaria(b_c2,[zeros(1:n-1) 1])  // somar 1\n",
    "  end\n",
    "  s=\"\"\n",
    "  for i=1:n\n",
    "    s=s+string(b_c2(i))\n",
    "  end\n",
    "  printf(\"%f (B10) = %s (B2)\\n\",a,s)\n",
    "  a2=binario2dec3(b_c2) // conversão do binário b_ce para decimal a2\n",
    "  printf(\"%s (B2) = %f (B10)\\n\",s,a2)\n",
    "endfunction"
   ]
  },
  {
   "cell_type": "markdown",
   "metadata": {},
   "source": [
    "---\n",
    "### A) Se usarmos uma máquina calculadora, que utiliza inteiros na base 2 com 8 bits e sinal em complemento 2, para subtrairmos o número decimal 43 do número binário 01110011, qual será o resultado em binário? e em decimal?\n",
    "\n",
    "#### R: base2   = 10111000\n",
    "#### R: base10 = -72"
   ]
  },
  {
   "cell_type": "code",
   "execution_count": 45,
   "metadata": {},
   "outputs": [
    {
     "name": "stdout",
     "output_type": "stream",
     "text": [
      "\u001b[4l\u001b[0m\n",
      "\u001b[0m\u001b[4l\u001b[0m\n",
      "\u001b[0m\u001b[4l\u001b[0m\n",
      "\u001b[0m"
     ]
    }
   ],
   "source": [
    "bits = 8;\n",
    "dec_a = 43;\n",
    "bin_b = [0, 1, 1, 1, 0, 0, 1, 1];"
   ]
  },
  {
   "cell_type": "code",
   "execution_count": 46,
   "metadata": {},
   "outputs": [
    {
     "name": "stdout",
     "output_type": "stream",
     "text": [
      "\u001b[4l \b\u001b[0m dec_b  = \r\n",
      "\r\n",
      "   115.\r\n",
      "\r\n",
      "\u001b[0m"
     ]
    }
   ],
   "source": [
    "dec_b = binario2dec3(bin_b, bits)"
   ]
  },
  {
   "cell_type": "code",
   "execution_count": 39,
   "metadata": {},
   "outputs": [
    {
     "name": "stdout",
     "output_type": "stream",
     "text": [
      "\u001b[4l \b\u001b[0m dec_answer  = \r\n",
      "\r\n",
      "  -72.\r\n",
      "\r\n",
      "\u001b[0m"
     ]
    }
   ],
   "source": [
    "dec_answer = dec_a - dec_b"
   ]
  },
  {
   "cell_type": "code",
   "execution_count": 47,
   "metadata": {},
   "outputs": [
    {
     "name": "stdout",
     "output_type": "stream",
     "text": [
      "\u001b[4l \b\u001b[0m-37.000000 (B10) = 11011011 (B2)\r\n",
      "11011011 (B2) = -37.000000 (B10)\r\n",
      " ans  =\r\n",
      "\r\n",
      "   1.   1.   0.   1.   1.   0.   1.   1.\r\n",
      "\r\n",
      "\u001b[0m"
     ]
    }
   ],
   "source": [
    "dec2binario3(dec_answer, bits)"
   ]
  },
  {
   "cell_type": "markdown",
   "metadata": {},
   "source": [
    "---\n",
    "### B) Se usarmos uma máquina calculadora, que utiliza inteiros na base 2 com 8 bits e sinal em complemento 2, para subtrairmos o número decimal 41 do número binário 01001110, qual será o resultado em binário? e em decimal?\n",
    "\n",
    "#### R: base2   = 11011011\n",
    "#### R: base10 = -37"
   ]
  },
  {
   "cell_type": "code",
   "execution_count": 49,
   "metadata": {},
   "outputs": [
    {
     "name": "stdout",
     "output_type": "stream",
     "text": [
      "\u001b[4l\u001b[0m\n",
      "\u001b[0m\u001b[4l\u001b[0m\n",
      "\u001b[0m"
     ]
    }
   ],
   "source": [
    "dec_a = 41;\n",
    "bin_b = [0,1,0,0,1,1,1,0];"
   ]
  },
  {
   "cell_type": "code",
   "execution_count": 50,
   "metadata": {},
   "outputs": [
    {
     "name": "stdout",
     "output_type": "stream",
     "text": [
      "\u001b[4l \b\u001b[0m dec_b  = \r\n",
      "\r\n",
      "   78.\r\n",
      "\r\n",
      "\u001b[0m"
     ]
    }
   ],
   "source": [
    "dec_b = binario2dec3(bin_b, bits)"
   ]
  },
  {
   "cell_type": "code",
   "execution_count": 51,
   "metadata": {},
   "outputs": [
    {
     "name": "stdout",
     "output_type": "stream",
     "text": [
      "\u001b[4l \b\u001b[0m dec_answer  = \r\n",
      "\r\n",
      "  -37.\r\n",
      "\r\n",
      "\u001b[0m"
     ]
    }
   ],
   "source": [
    "dec_answer = dec_a - dec_b"
   ]
  },
  {
   "cell_type": "code",
   "execution_count": 52,
   "metadata": {},
   "outputs": [
    {
     "name": "stdout",
     "output_type": "stream",
     "text": [
      "\u001b[4l \b\u001b[0m-37.000000 (B10) = 11011011 (B2)\r\n",
      "11011011 (B2) = -37.000000 (B10)\r\n",
      " ans  =\r\n",
      "\r\n",
      "   1.   1.   0.   1.   1.   0.   1.   1.\r\n",
      "\r\n",
      "\u001b[0m"
     ]
    }
   ],
   "source": [
    "dec2binario3(dec_answer, bits)"
   ]
  },
  {
   "cell_type": "markdown",
   "metadata": {},
   "source": [
    "---\n",
    "### C) Se usarmos uma máquina calculadora, que utiliza inteiros na base 2 com 8 bits e sinal em complemento 2, para subtrairmos o número decimal 33 do número binário 01010110, qual será o resultado em binário?\n",
    "\n",
    "#### R: base2   = 11001011\n",
    "#### R: base10 = -53"
   ]
  },
  {
   "cell_type": "code",
   "execution_count": 54,
   "metadata": {},
   "outputs": [
    {
     "name": "stdout",
     "output_type": "stream",
     "text": [
      "\u001b[4l\u001b[0m\n",
      "\u001b[0m\u001b[4l\u001b[0m\n",
      "\u001b[0m"
     ]
    }
   ],
   "source": [
    "dec_a = 33;\n",
    "bin_b = [0,1,0,1,0,1,1,0];"
   ]
  },
  {
   "cell_type": "code",
   "execution_count": 55,
   "metadata": {},
   "outputs": [
    {
     "name": "stdout",
     "output_type": "stream",
     "text": [
      "\u001b[4l \b\u001b[0m dec_b  = \r\n",
      "\r\n",
      "   86.\r\n",
      "\r\n",
      "\u001b[0m"
     ]
    }
   ],
   "source": [
    "dec_b = binario2dec3(bin_b, bits)"
   ]
  },
  {
   "cell_type": "code",
   "execution_count": 56,
   "metadata": {},
   "outputs": [
    {
     "name": "stdout",
     "output_type": "stream",
     "text": [
      "\u001b[4l \b\u001b[0m dec_answer  = \r\n",
      "\r\n",
      "  -53.\r\n",
      "\r\n",
      "\u001b[0m"
     ]
    }
   ],
   "source": [
    "dec_answer = dec_a - dec_b"
   ]
  },
  {
   "cell_type": "code",
   "execution_count": 57,
   "metadata": {},
   "outputs": [
    {
     "name": "stdout",
     "output_type": "stream",
     "text": [
      "\u001b[4l \b\u001b[0m-53.000000 (B10) = 11001011 (B2)\r\n",
      "11001011 (B2) = -53.000000 (B10)\r\n",
      " ans  =\r\n",
      "\r\n",
      "   1.   1.   0.   0.   1.   0.   1.   1.\r\n",
      "\r\n",
      "\u001b[0m"
     ]
    }
   ],
   "source": [
    "dec2binario3(dec_answer, bits)"
   ]
  }
 ],
 "metadata": {
  "kernelspec": {
   "display_name": "Scilab",
   "language": "scilab",
   "name": "scilab"
  },
  "language_info": {
   "file_extension": ".sci",
   "help_links": [
    {
     "text": "MetaKernel Magics",
     "url": "https://metakernel.readthedocs.io/en/latest/source/README.html"
    }
   ],
   "mimetype": "text/x-octave",
   "name": "octave",
   "version": "0.9.10"
  }
 },
 "nbformat": 4,
 "nbformat_minor": 4
}
